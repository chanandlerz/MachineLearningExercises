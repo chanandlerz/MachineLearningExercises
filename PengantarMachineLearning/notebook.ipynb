{
 "cells": [
  {
   "cell_type": "code",
   "execution_count": null,
   "id": "7141d3d6-45f9-4aea-a99f-d13310244997",
   "metadata": {},
   "outputs": [],
   "source": [
    "import pandas as pd\n",
    "import seaborn as sns\n",
    "import matplotlib.pyplot as plt\n",
    "from sklearn.preprocessing import StandardScaler\n",
    "from sklearn.preprocessing import LabelEncoder\n"
   ]
  },
  {
   "cell_type": "markdown",
   "id": "0073696b",
   "metadata": {},
   "source": [
    "## Loading data"
   ]
  },
  {
   "cell_type": "code",
   "execution_count": null,
   "id": "a862f814-233d-4458-8d23-efab790e5fd3",
   "metadata": {},
   "outputs": [],
   "source": [
    "test = pd.read_csv('/home/nadia/Documents/DICODING/MLPemula/house-prices-advanced-regression-techniques/test.csv')\n",
    "test.head()"
   ]
  },
  {
   "cell_type": "code",
   "execution_count": null,
   "id": "f363aa6a-0132-4d8f-9a7a-64f2f3515c67",
   "metadata": {},
   "outputs": [],
   "source": [
    "train = pd.read_csv('/home/nadia/Documents/DICODING/MLPemula/house-prices-advanced-regression-techniques/train.csv')\n",
    "train.head()"
   ]
  },
  {
   "cell_type": "markdown",
   "id": "f5a7abd7",
   "metadata": {},
   "source": [
    "## Data Cleaning\n"
   ]
  },
  {
   "cell_type": "markdown",
   "id": "8e1b56ba",
   "metadata": {},
   "source": [
    "Understanding data"
   ]
  },
  {
   "cell_type": "code",
   "execution_count": null,
   "id": "6f249df1-84c4-4bb1-98ed-46031896d8bc",
   "metadata": {},
   "outputs": [],
   "source": [
    "test.info()"
   ]
  },
  {
   "cell_type": "code",
   "execution_count": null,
   "id": "f13b6b25-0355-4af3-8bf2-059a86df398d",
   "metadata": {},
   "outputs": [],
   "source": [
    "train.info()"
   ]
  },
  {
   "cell_type": "code",
   "execution_count": null,
   "id": "c3df5323-ac33-406f-9252-7f5517d03b21",
   "metadata": {},
   "outputs": [],
   "source": [
    "train.describe(include=\"all\")"
   ]
  },
  {
   "cell_type": "markdown",
   "id": "3b019982",
   "metadata": {},
   "source": [
    "Manage missing value"
   ]
  },
  {
   "cell_type": "code",
   "execution_count": null,
   "id": "aa153b6c",
   "metadata": {},
   "outputs": [],
   "source": [
    "missing_values = train.isnull().sum()\n",
    "missing_percentage = (missing_values/ len(train))*100\n",
    "\n",
    "missing_data = pd.DataFrame({\n",
    "    'Missing Values':missing_values,\n",
    "    'Percentage' : missing_percentage\n",
    "}).sort_values(by='Missing Values', ascending=False)\n",
    "\n",
    "missing_data[missing_data['Missing Values'] > 0]"
   ]
  },
  {
   "cell_type": "code",
   "execution_count": null,
   "id": "71bc03f7",
   "metadata": {},
   "outputs": [],
   "source": [
    "missing_values = train.isnull().sum()\n",
    "missing_values[missing_values > 0]"
   ]
  },
  {
   "cell_type": "code",
   "execution_count": null,
   "id": "a75560e7",
   "metadata": {},
   "outputs": [],
   "source": [
    "# less = missing_values[missing_values < 1000][missing_values > 0].index\n",
    "# less\n",
    "\n",
    "less = missing_values[missing_values < 1000].index\n",
    "less"
   ]
  },
  {
   "cell_type": "code",
   "execution_count": null,
   "id": "5db6a90f",
   "metadata": {},
   "outputs": [],
   "source": [
    "over = missing_values[missing_values >= 1000].index\n",
    "over"
   ]
  },
  {
   "cell_type": "code",
   "execution_count": null,
   "id": "ba1ffd83",
   "metadata": {},
   "outputs": [],
   "source": [
    "missing_values[less][missing_values > 0]"
   ]
  },
  {
   "cell_type": "code",
   "execution_count": null,
   "id": "7faa3ace",
   "metadata": {},
   "outputs": [],
   "source": [
    "numeric_features = train[less].select_dtypes(include=[\"number\"]).columns\n",
    "print(numeric_features)\n",
    "train[numeric_features] = train[numeric_features].fillna(train[numeric_features].median())"
   ]
  },
  {
   "cell_type": "code",
   "execution_count": null,
   "id": "0532fee1",
   "metadata": {},
   "outputs": [],
   "source": [
    "train[numeric_features] = train[numeric_features].fillna(train[numeric_features].median())"
   ]
  },
  {
   "cell_type": "code",
   "execution_count": null,
   "id": "36b2ad31",
   "metadata": {},
   "outputs": [],
   "source": [
    "update_miss_vals = train.isnull().sum()[missing_values>0][missing_values<1000]\n",
    "update_miss_vals"
   ]
  },
  {
   "cell_type": "code",
   "execution_count": null,
   "id": "a1b1d3a8",
   "metadata": {},
   "outputs": [],
   "source": [
    "kategorical_features = train[less].select_dtypes(include=[\"object\"]).columns\n",
    "print(kategorical_features)"
   ]
  },
  {
   "cell_type": "code",
   "execution_count": null,
   "id": "426bc41a",
   "metadata": {},
   "outputs": [],
   "source": [
    "for column in kategorical_features:\n",
    "    train[column] = train[column].fillna(train[column].mode()[0])"
   ]
  },
  {
   "cell_type": "code",
   "execution_count": null,
   "id": "1427bf82",
   "metadata": {},
   "outputs": [],
   "source": [
    "train[less].isna().sum()"
   ]
  },
  {
   "cell_type": "code",
   "execution_count": null,
   "id": "e39ec24f",
   "metadata": {},
   "outputs": [],
   "source": [
    "df = train.drop(columns=over)"
   ]
  },
  {
   "cell_type": "code",
   "execution_count": null,
   "id": "c882d68e",
   "metadata": {},
   "outputs": [],
   "source": [
    "df.head()"
   ]
  },
  {
   "cell_type": "code",
   "execution_count": null,
   "id": "e848775c",
   "metadata": {},
   "outputs": [],
   "source": [
    "missing_values = df.isnull().sum()\n",
    "missing_values[missing_values>0]"
   ]
  },
  {
   "cell_type": "code",
   "execution_count": null,
   "id": "cbadc708",
   "metadata": {},
   "outputs": [],
   "source": [
    "df.head()"
   ]
  },
  {
   "cell_type": "code",
   "execution_count": null,
   "id": "3436c6e1",
   "metadata": {},
   "outputs": [],
   "source": [
    "for feature in numeric_features:\n",
    "    plt.figure(figsize=(10,6))\n",
    "    sns.boxplot(x=df[feature])\n",
    "    plt.title(f'Box plot of {feature}')\n",
    "    plt.show()"
   ]
  },
  {
   "cell_type": "code",
   "execution_count": null,
   "id": "68cbb842",
   "metadata": {},
   "outputs": [],
   "source": [
    "Q1 = df[numeric_features].quantile(0.25)\n",
    "Q3 = df[numeric_features].quantile(0.75)\n",
    "IQR = Q3-Q1"
   ]
  },
  {
   "cell_type": "code",
   "execution_count": null,
   "id": "35895640",
   "metadata": {},
   "outputs": [],
   "source": [
    "df.head()"
   ]
  },
  {
   "cell_type": "code",
   "execution_count": null,
   "id": "2ef7af7c",
   "metadata": {},
   "outputs": [],
   "source": [
    "# Filter dataframe untuk hanya menyimpan baris yang tidak mengandung outliers pada kolom numerik\n",
    "condition = ~((df[numeric_features] < (Q1 - 1.5 * IQR)) | (df[numeric_features] > (Q3 + 1.5 * IQR))).any(axis=1)\n",
    "df_filtered_numeric = df.loc[condition, numeric_features]\n",
    "    \n",
    "# Menggabungkan kembali dengan kolom kategorikal\n",
    "categorical_features = df.select_dtypes(include=['object']).columns\n",
    "df = pd.concat([df_filtered_numeric, df.loc[condition, categorical_features]], axis=1)"
   ]
  },
  {
   "cell_type": "code",
   "execution_count": null,
   "id": "115767bb",
   "metadata": {},
   "outputs": [],
   "source": [
    "df.head()"
   ]
  },
  {
   "cell_type": "code",
   "execution_count": null,
   "id": "bf5a1347",
   "metadata": {},
   "outputs": [],
   "source": [
    "condition = -((df[numeric_features] < (Q1-1.5*IQR)) | (df[numeric_features] > (Q3 + 1.5 * IQR))).any(axis=1)\n",
    "df_filtered_numeric = df.loc[condition, numeric_features]\n",
    "\n",
    "categorical_features = df.select_dtypes(include=['object']).columns\n",
    "df = pd.concat([df_filtered_numeric,df.loc[condition, categorical_features]], axis=1)"
   ]
  },
  {
   "cell_type": "code",
   "execution_count": null,
   "id": "8639299e",
   "metadata": {},
   "outputs": [],
   "source": [
    "df.head()"
   ]
  },
  {
   "cell_type": "code",
   "execution_count": null,
   "id": "7bb3e79a",
   "metadata": {},
   "outputs": [],
   "source": [
    "for feature in df_filtered_numeric:\n",
    "    plt.figure(figsize=(10,6))\n",
    "    sns.boxplot(x=df[feature])\n",
    "    plt.title(f'Box plot of {feature}')\n",
    "    plt.show()"
   ]
  },
  {
   "cell_type": "code",
   "execution_count": null,
   "id": "04069702",
   "metadata": {},
   "outputs": [],
   "source": []
  },
  {
   "cell_type": "markdown",
   "id": "377b603b",
   "metadata": {},
   "source": [
    "cara lain mengatasi outlier"
   ]
  },
  {
   "cell_type": "code",
   "execution_count": null,
   "id": "92dd3a12",
   "metadata": {},
   "outputs": [],
   "source": [
    "# median = df['column_name'].median()\n",
    "# df['column_name'] = df['column_name'].apply(lambda x: median if x < (Q1 - 1.5  IQR) or x > (Q3 + 1.5  IQR) else x)\n",
    "\n",
    "# # Mengganti outlier dengan nilai batas terdekat\n",
    "# df['column_name'] = df['column_name'].apply(lambda x: (Q1 - 1.5  IQR) if x < lower_bound else (Q3 + 1.5  IQR) if x > (Q3 + 1.5 * IQR) else x)"
   ]
  },
  {
   "cell_type": "code",
   "execution_count": null,
   "id": "bf7dd5c0",
   "metadata": {},
   "outputs": [],
   "source": [
    "for feature in numeric_features:\n",
    "    fig, ax = plt.subplots(1,2,figsize=(24,6))\n",
    "\n",
    "    sns.boxplot(x=train[feature], ax=ax[0])\n",
    "    ax[0].set_title(f\"{feature} before cleaning\")\n",
    "\n",
    "    sns.boxplot(x=df_filtered_numeric[feature])\n",
    "    ax[1].set_title(f\"{feature} after cleaning\")\n",
    "\n",
    "    plt.show()\n",
    "\n",
    "\n"
   ]
  },
  {
   "cell_type": "markdown",
   "id": "23fd744b",
   "metadata": {},
   "source": [
    "Standarisasi"
   ]
  },
  {
   "cell_type": "markdown",
   "id": "0f456988",
   "metadata": {},
   "source": [
    "Standarisasi fitur numerik"
   ]
  },
  {
   "cell_type": "code",
   "execution_count": null,
   "id": "6c644af6",
   "metadata": {},
   "outputs": [],
   "source": [
    "scaler = StandardScaler()\n",
    "# df.isna().sum()\n",
    "df[numeric_features] = scaler.fit_transform(df[numeric_features])"
   ]
  },
  {
   "cell_type": "code",
   "execution_count": null,
   "id": "7237bd45",
   "metadata": {},
   "outputs": [],
   "source": [
    "for feature in numeric_features:\n",
    "    fig, ax = plt.subplots(1,2,figsize=(24,6))\n",
    "\n",
    "    sns.histplot(x=train[feature], ax=ax[0])\n",
    "    ax[0].set_title(f\"{feature} before Standardisasi\")\n",
    "\n",
    "    sns.histplot(x=df[feature])\n",
    "    ax[1].set_title(f\"{feature} after Standardisasi\")\n",
    "\n",
    "    plt.show()\n"
   ]
  },
  {
   "cell_type": "markdown",
   "id": "b4a0ab96",
   "metadata": {},
   "source": [
    "Menangani duplikat"
   ]
  },
  {
   "cell_type": "code",
   "execution_count": null,
   "id": "59f2a60c",
   "metadata": {},
   "outputs": [],
   "source": [
    "duplicates = df.duplicated()\n",
    "\n",
    "print(\"Baris duplikat : \")\n",
    "# print(df[duplicates])\n",
    "df[duplicates]"
   ]
  },
  {
   "cell_type": "code",
   "execution_count": null,
   "id": "4a2492a4",
   "metadata": {},
   "outputs": [],
   "source": [
    "# # Menghapus baris duplikat\n",
    "# df = df.drop_duplicates()\n",
    "    \n",
    "# print(\"DataFrame setelah menghapus duplikat:\")\n",
    "# print(df)"
   ]
  },
  {
   "cell_type": "code",
   "execution_count": null,
   "id": "89a232ae",
   "metadata": {},
   "outputs": [],
   "source": [
    "category_features = df.select_dtypes(include=['object']).columns\n",
    "df[category_features]"
   ]
  },
  {
   "cell_type": "markdown",
   "id": "38bf42e2",
   "metadata": {},
   "source": [
    "One Hot Encoding"
   ]
  },
  {
   "cell_type": "code",
   "execution_count": null,
   "id": "ec947973",
   "metadata": {},
   "outputs": [],
   "source": [
    "df_one_hot = pd.get_dummies(df, columns=category_features)\n",
    "df_one_hot"
   ]
  },
  {
   "cell_type": "code",
   "execution_count": null,
   "id": "083023f3",
   "metadata": {},
   "outputs": [],
   "source": [
    "df_one_hot.info()"
   ]
  },
  {
   "cell_type": "code",
   "execution_count": null,
   "id": "c9353f03",
   "metadata": {},
   "outputs": [],
   "source": [
    "df_one_hot.sample(10)"
   ]
  },
  {
   "cell_type": "code",
   "execution_count": null,
   "id": "5821d981",
   "metadata": {},
   "outputs": [],
   "source": [
    "df.head()"
   ]
  },
  {
   "cell_type": "markdown",
   "id": "b66cd54d",
   "metadata": {},
   "source": [
    "Label Encoding"
   ]
  },
  {
   "cell_type": "code",
   "execution_count": null,
   "id": "5661f805",
   "metadata": {},
   "outputs": [],
   "source": [
    "label_encoder = LabelEncoder()\n",
    "\n",
    "df_lencoder = pd.DataFrame(df)\n",
    "\n",
    "for col in category_features:\n",
    "    df_lencoder[col] = label_encoder.fit_transform(df[col])\n",
    "\n",
    "df_lencoder\n"
   ]
  },
  {
   "cell_type": "markdown",
   "id": "147efec1",
   "metadata": {},
   "source": [
    "## Exploratory dan Explanatory Data Analysis"
   ]
  },
  {
   "cell_type": "code",
   "execution_count": null,
   "id": "4f1b12f5",
   "metadata": {},
   "outputs": [],
   "source": [
    "df_lencoder.head()"
   ]
  },
  {
   "cell_type": "code",
   "execution_count": null,
   "id": "880dbdea",
   "metadata": {},
   "outputs": [],
   "source": [
    "missing_values = df_lencoder.isnull().sum()\n",
    "missing_percentage = (missing_values/ len(df_lencoder))*100\n",
    "\n",
    "missing_data = pd.DataFrame({\n",
    "    'Missing Values':missing_values,\n",
    "    'Percentage' : missing_percentage\n",
    "}).sort_values(by='Missing Values', ascending=False)\n",
    "\n",
    "missing_data[missing_data['Missing Values'] > 0]"
   ]
  },
  {
   "cell_type": "code",
   "execution_count": null,
   "id": "834fea98",
   "metadata": {},
   "outputs": [],
   "source": [
    "num_vars = df_lencoder.shape[1]\n",
    "\n",
    "n_cols = 4\n",
    "n_rows = -(-num_vars//n_cols)\n",
    "\n",
    "fig, axes = plt.subplots(nrows=n_rows, ncols=n_cols, figsize = (20,n_rows*4))\n",
    "\n",
    "axes = axes.flatten()\n",
    "\n",
    "for i, column in enumerate(df_lencoder.columns):\n",
    "    df_lencoder[column].hist(ax=axes[i], bins=20, edgecolor='black')\n",
    "    axes[i].set_title(column)\n",
    "    axes[i].set_xlabel('Value')\n",
    "    axes[i].set_ylabel('Frequency')\n",
    "\n",
    "for j in range(i+1, len(axes)):\n",
    "    fig.delaxes(axes[j])\n",
    "\n",
    "plt.tight_layout()\n",
    "plt.show()"
   ]
  },
  {
   "cell_type": "code",
   "execution_count": null,
   "id": "5cc7c419",
   "metadata": {},
   "outputs": [],
   "source": [
    "columns_to_plot = ['OverallQual','YearBuilt','LotArea','SaleType','SaleCondition']\n",
    "\n",
    "plt.figure(figsize=(15,10))\n",
    "\n",
    "for i, column in enumerate(columns_to_plot, 1):\n",
    "    plt.subplot(2,3,i)\n",
    "    sns.histplot(df_lencoder[column],kde=True, bins=30)\n",
    "    plt.title(f'Distribution of {column}')\n",
    "\n",
    "plt.tight_layout()\n",
    "plt.show()"
   ]
  },
  {
   "cell_type": "code",
   "execution_count": null,
   "id": "fb8fd599",
   "metadata": {},
   "outputs": [],
   "source": [
    "plt.figure(figsize=(12,10))\n",
    "correlation_matrix = df_lencoder.corr()\n",
    "\n",
    "sns.heatmap(correlation_matrix, annot=False, cmap='coolwarm', vmin=-1, vmax=1)\n",
    "\n",
    "plt.title('Correlation Matrix')\n",
    "plt.show()"
   ]
  },
  {
   "cell_type": "code",
   "execution_count": null,
   "id": "9e43c270",
   "metadata": {},
   "outputs": [],
   "source": [
    "target_corr = df_lencoder.corr()['SalePrice']\n",
    "\n",
    "target_corr_sorted = target_corr.abs().sort_values(ascending=False)\n",
    "\n",
    "plt.figure(figsize=(10,6))\n",
    "target_corr_sorted.plot(kind='bar')\n",
    "plt.title(f'Correlation with SalePrice')\n",
    "plt.xlabel('Variables')\n",
    "plt.ylabel('Correlation Coefficient')\n",
    "plt.show()"
   ]
  },
  {
   "cell_type": "markdown",
   "id": "2637b56e",
   "metadata": {},
   "source": [
    "## Data Splitting"
   ]
  },
  {
   "cell_type": "code",
   "execution_count": null,
   "id": "59f348b9",
   "metadata": {},
   "outputs": [],
   "source": [
    "import sklearn"
   ]
  },
  {
   "cell_type": "code",
   "execution_count": null,
   "id": "01bf170f",
   "metadata": {},
   "outputs": [],
   "source": [
    "X = df_lencoder.drop(columns=['SalePrice'])\n",
    "y = df_lencoder['SalePrice']"
   ]
  },
  {
   "cell_type": "code",
   "execution_count": null,
   "id": "b70bd553",
   "metadata": {},
   "outputs": [],
   "source": [
    "from sklearn.model_selection import train_test_split\n",
    "\n",
    "x_train, x_test, y_train, y_test = train_test_split(X, y, test_size=0.2, random_state=1)"
   ]
  },
  {
   "cell_type": "code",
   "execution_count": null,
   "id": "4bc80575",
   "metadata": {},
   "outputs": [],
   "source": [
    "# menghitung panjang/jumlah data \n",
    "print(\"Jumlah data: \",len(X))\n",
    "# menghitung panjang/jumlah data pada x_test\n",
    "print(\"Jumlah data latih: \",len(x_train))\n",
    "# menghitung panjang/jumlah data pada x_test\n",
    "print(\"Jumlah data test: \",len(x_test))"
   ]
  },
  {
   "cell_type": "markdown",
   "id": "bbf501cc",
   "metadata": {},
   "source": [
    "## Modelling"
   ]
  },
  {
   "cell_type": "code",
   "execution_count": null,
   "id": "2bff4bfd",
   "metadata": {},
   "outputs": [],
   "source": [
    "# Model 1 dengan algoritma Least Angle Regression\n",
    "from sklearn import linear_model\n",
    "lars = linear_model.Lars(n_nonzero_coefs=1).fit(x_train, y_train)\n",
    "\n",
    "# Model 2 dengan algoritma Linear Regression\n",
    "from sklearn.linear_model import LinearRegression\n",
    "LR = LinearRegression().fit(x_train, y_train)\n",
    "\n",
    "# Model 3 dengan algoritma Gradient Boosting Regressor\n",
    "from sklearn.ensemble import GradientBoostingRegressor\n",
    "GBR = GradientBoostingRegressor(random_state=184)\n",
    "GBR.fit(x_train,y_train)"
   ]
  },
  {
   "cell_type": "markdown",
   "id": "23393bb8",
   "metadata": {},
   "source": [
    "Evaluasi Model"
   ]
  },
  {
   "cell_type": "code",
   "execution_count": null,
   "id": "806a1384",
   "metadata": {},
   "outputs": [],
   "source": [
    "from sklearn.metrics import *\n",
    "\n",
    "pred_lars = lars.predict(x_test)\n",
    "mae_lars = mean_absolute_error(y_test, pred_lars)\n",
    "mse_lars = mean_squared_error(y_test, pred_lars)\n",
    "r2_lars = r2_score(y_test, pred_lars)\n",
    "\n",
    "data = {\n",
    "    'MAE': [mae_lars],\n",
    "    'MSE' : [mse_lars],\n",
    "    'R2' : [r2_lars]\n",
    "}\n",
    "\n",
    "df_results = pd.DataFrame(data, index=['Lars'])\n",
    "\n",
    "df_results"
   ]
  },
  {
   "cell_type": "code",
   "execution_count": null,
   "id": "3fe8f626",
   "metadata": {},
   "outputs": [],
   "source": [
    "pred_LR = LR.predict(x_test)\n",
    "mae_LR = mean_absolute_error(y_test, pred_LR)\n",
    "mse_LR = mean_squared_error(y_test, pred_LR)\n",
    "r2_LR = r2_score(y_test, pred_LR)\n",
    " \n",
    "df_results.loc['Linear Regression'] = [mae_LR, mse_LR, r2_LR]\n",
    "df_results"
   ]
  },
  {
   "cell_type": "code",
   "execution_count": null,
   "id": "baf97eb9",
   "metadata": {},
   "outputs": [],
   "source": [
    "pred_GBR = GBR.predict(x_test)\n",
    "mae_GBR = mean_absolute_error(y_test, pred_GBR)\n",
    "mse_GBR = mean_squared_error(y_test, pred_GBR)\n",
    "r2_GBR = r2_score(y_test, pred_GBR)\n",
    " \n",
    "df_results.loc['GradientBoostingRegressor'] = [mae_GBR, mse_GBR, r2_GBR]\n",
    "df_results"
   ]
  },
  {
   "cell_type": "markdown",
   "id": "63b382a8",
   "metadata": {},
   "source": [
    "Menyimpan Model"
   ]
  },
  {
   "cell_type": "code",
   "execution_count": null,
   "id": "e220dec1",
   "metadata": {},
   "outputs": [],
   "source": [
    "import joblib\n",
    "\n",
    "joblib.dump(GBR, 'gbr_model.joblib')"
   ]
  },
  {
   "cell_type": "code",
   "execution_count": null,
   "id": "ba653da0",
   "metadata": {},
   "outputs": [],
   "source": [
    "import pickle\n",
    "\n",
    "with open('gbr_model.pkl', 'wb') as file:\n",
    "    pickle.dump(GBR, file)"
   ]
  },
  {
   "cell_type": "markdown",
   "id": "ffc37ff0",
   "metadata": {},
   "source": [
    "## Deployment dan Monitoring"
   ]
  },
  {
   "cell_type": "code",
   "execution_count": null,
   "id": "520ed9de",
   "metadata": {},
   "outputs": [],
   "source": [
    "joblib_model = joblib.load('gbr_model.joblib')\n",
    "\n",
    "with open('gbr_model.pkl', 'rb') as file:\n",
    "    pickle_model = pickle.load(file)"
   ]
  },
  {
   "cell_type": "code",
   "execution_count": null,
   "id": "10bbc4fa",
   "metadata": {},
   "outputs": [],
   "source": []
  }
 ],
 "metadata": {
  "kernelspec": {
   "display_name": "MLPemula-pz47q_Hc",
   "language": "python",
   "name": "python3"
  },
  "language_info": {
   "codemirror_mode": {
    "name": "ipython",
    "version": 3
   },
   "file_extension": ".py",
   "mimetype": "text/x-python",
   "name": "python",
   "nbconvert_exporter": "python",
   "pygments_lexer": "ipython3",
   "version": "3.12.3"
  }
 },
 "nbformat": 4,
 "nbformat_minor": 5
}
